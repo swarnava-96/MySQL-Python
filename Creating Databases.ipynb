{
 "cells": [
  {
   "cell_type": "markdown",
   "id": "attractive-kuwait",
   "metadata": {},
   "source": [
    "# Creating Databases in MySQL"
   ]
  },
  {
   "cell_type": "markdown",
   "id": "legislative-maine",
   "metadata": {},
   "source": [
    "### Create MySQL Connection"
   ]
  },
  {
   "cell_type": "code",
   "execution_count": 1,
   "id": "smoking-reset",
   "metadata": {},
   "outputs": [],
   "source": [
    "import mysql.connector as sql"
   ]
  },
  {
   "cell_type": "code",
   "execution_count": 2,
   "id": "commercial-substance",
   "metadata": {},
   "outputs": [
    {
     "name": "stdout",
     "output_type": "stream",
     "text": [
      "<mysql.connector.connection.MySQLConnection object at 0x0000017014BC7B70>\n"
     ]
    }
   ],
   "source": [
    "connection=sql.connect(host='localhost',user='Swarnava',password='12345')\n",
    "print(connection)"
   ]
  },
  {
   "cell_type": "markdown",
   "id": "discrete-techno",
   "metadata": {},
   "source": [
    "### Creating Databases"
   ]
  },
  {
   "cell_type": "code",
   "execution_count": 4,
   "id": "conservative-intermediate",
   "metadata": {},
   "outputs": [],
   "source": [
    "cursor=connection.cursor()\n",
    "cursor.execute('CREATE DATABASE employment')"
   ]
  },
  {
   "cell_type": "code",
   "execution_count": 5,
   "id": "aging-bottle",
   "metadata": {},
   "outputs": [],
   "source": [
    "cursor.execute('SHOW DATABASES')"
   ]
  },
  {
   "cell_type": "code",
   "execution_count": 6,
   "id": "thermal-symposium",
   "metadata": {},
   "outputs": [
    {
     "name": "stdout",
     "output_type": "stream",
     "text": [
      "('employment',)\n",
      "('information_schema',)\n",
      "('mysql',)\n",
      "('performance_schema',)\n",
      "('sakila',)\n",
      "('student',)\n",
      "('swarnava',)\n",
      "('sys',)\n",
      "('world',)\n"
     ]
    }
   ],
   "source": [
    "for database in cursor:\n",
    "    print(database)"
   ]
  },
  {
   "cell_type": "markdown",
   "id": "conventional-project",
   "metadata": {},
   "source": [
    "### Dropping Databases"
   ]
  },
  {
   "cell_type": "code",
   "execution_count": 7,
   "id": "significant-floating",
   "metadata": {},
   "outputs": [],
   "source": [
    "cursor.execute('DROP DATABASE employment')"
   ]
  },
  {
   "cell_type": "code",
   "execution_count": 8,
   "id": "danish-sphere",
   "metadata": {},
   "outputs": [],
   "source": [
    "cursor.execute('SHOW DATABASES')"
   ]
  },
  {
   "cell_type": "code",
   "execution_count": 9,
   "id": "aboriginal-freeware",
   "metadata": {},
   "outputs": [
    {
     "name": "stdout",
     "output_type": "stream",
     "text": [
      "('information_schema',)\n",
      "('mysql',)\n",
      "('performance_schema',)\n",
      "('sakila',)\n",
      "('student',)\n",
      "('swarnava',)\n",
      "('sys',)\n",
      "('world',)\n"
     ]
    }
   ],
   "source": [
    "for database in cursor:\n",
    "    print(database)"
   ]
  }
 ],
 "metadata": {
  "kernelspec": {
   "display_name": "Python 3",
   "language": "python",
   "name": "python3"
  },
  "language_info": {
   "codemirror_mode": {
    "name": "ipython",
    "version": 3
   },
   "file_extension": ".py",
   "mimetype": "text/x-python",
   "name": "python",
   "nbconvert_exporter": "python",
   "pygments_lexer": "ipython3",
   "version": "3.7.3"
  }
 },
 "nbformat": 4,
 "nbformat_minor": 5
}
