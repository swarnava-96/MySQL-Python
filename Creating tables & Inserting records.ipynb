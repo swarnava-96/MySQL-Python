{
 "cells": [
  {
   "cell_type": "markdown",
   "id": "bound-campus",
   "metadata": {},
   "source": [
    "# Creating Tables And Inserting Records"
   ]
  },
  {
   "cell_type": "markdown",
   "id": "egyptian-billion",
   "metadata": {},
   "source": [
    "### Create MySQL Connection And Connect"
   ]
  },
  {
   "cell_type": "code",
   "execution_count": 1,
   "id": "received-empty",
   "metadata": {},
   "outputs": [],
   "source": [
    "import mysql.connector as sql"
   ]
  },
  {
   "cell_type": "code",
   "execution_count": 2,
   "id": "atomic-button",
   "metadata": {},
   "outputs": [
    {
     "name": "stdout",
     "output_type": "stream",
     "text": [
      "<mysql.connector.connection.MySQLConnection object at 0x00000199E97E6C18>\n"
     ]
    }
   ],
   "source": [
    "connection=sql.connect(host='localhost',\n",
    "                      user='Swarnava',\n",
    "                      password='12345',\n",
    "                      database='student')\n",
    "\n",
    "print(connection)"
   ]
  },
  {
   "cell_type": "markdown",
   "id": "indirect-lemon",
   "metadata": {},
   "source": [
    "### Create Table In MySQL using Python"
   ]
  },
  {
   "cell_type": "code",
   "execution_count": 3,
   "id": "tough-falls",
   "metadata": {},
   "outputs": [],
   "source": [
    "cursor=connection.cursor()\n",
    "\n",
    "cursor.execute('CREATE TABLE studentinfo(id INT AUTO_INCREMENT PRIMARY KEY,name VARCHAR(255),subject VARCHAR(255))')"
   ]
  },
  {
   "cell_type": "markdown",
   "id": "random-miller",
   "metadata": {},
   "source": [
    "### Insert Records in Table"
   ]
  },
  {
   "cell_type": "code",
   "execution_count": 4,
   "id": "surprised-yesterday",
   "metadata": {},
   "outputs": [
    {
     "name": "stdout",
     "output_type": "stream",
     "text": [
      "Row inserted 1\n"
     ]
    }
   ],
   "source": [
    "### Insert single record in Table\n",
    "\n",
    "query='INSERT INTO studentinfo(name,subject) VALUES(%s , %s)'\n",
    "value=('John','Stats')\n",
    "cursor.execute(query,value)\n",
    "print('Row inserted',cursor.lastrowid)"
   ]
  },
  {
   "cell_type": "code",
   "execution_count": 6,
   "id": "freelance-project",
   "metadata": {},
   "outputs": [
    {
     "name": "stdout",
     "output_type": "stream",
     "text": [
      "Row inserted 2\n"
     ]
    }
   ],
   "source": [
    "### Insert multiple records in Table\n",
    "\n",
    "query='INSERT INTO studentinfo(name,subject) VALUES(%s, %s)'\n",
    "values = [(\"Swarnava\", \"Stats\"),\n",
    "        (\"Joe\", \"Maths\"),\n",
    "        (\"Ankur\",\"Data Science\"),\n",
    "        (\"Paul\",\"Data Science\"),\n",
    "        (\"Vishal\",\"Maths\"),\n",
    "        (\"Krish\",\"Data Science\")]\n",
    "cursor.executemany(query,values)\n",
    "print('Row inserted',cursor.lastrowid)"
   ]
  },
  {
   "cell_type": "markdown",
   "id": "floating-painting",
   "metadata": {},
   "source": [
    "### Select All"
   ]
  },
  {
   "cell_type": "code",
   "execution_count": 27,
   "id": "extensive-pitch",
   "metadata": {},
   "outputs": [],
   "source": [
    "cursor=connection.cursor()\n",
    "cursor.execute('SELECT * FROM studentinfo')"
   ]
  },
  {
   "cell_type": "markdown",
   "id": "cooperative-technique",
   "metadata": {},
   "source": [
    "### Fetch All the Data"
   ]
  },
  {
   "cell_type": "code",
   "execution_count": 28,
   "id": "iraqi-quantum",
   "metadata": {},
   "outputs": [
    {
     "data": {
      "text/plain": [
       "[(1, 'John', 'Stats'),\n",
       " (2, 'Swarnava', 'Stats'),\n",
       " (3, 'Joe', 'Maths'),\n",
       " (4, 'Ankur', 'Data Science'),\n",
       " (5, 'Paul', 'Data Science'),\n",
       " (6, 'Vishal', 'Maths'),\n",
       " (7, 'Krish', 'Data Science')]"
      ]
     },
     "execution_count": 28,
     "metadata": {},
     "output_type": "execute_result"
    }
   ],
   "source": [
    "cursor.fetchall()"
   ]
  },
  {
   "cell_type": "code",
   "execution_count": 15,
   "id": "neural-share",
   "metadata": {},
   "outputs": [],
   "source": [
    "### Fetch One Record At A time\n",
    "\n",
    "cursor.fetchone()"
   ]
  },
  {
   "cell_type": "code",
   "execution_count": 22,
   "id": "double-assets",
   "metadata": {},
   "outputs": [],
   "source": [
    "X=cursor.fetchall()"
   ]
  },
  {
   "cell_type": "code",
   "execution_count": 26,
   "id": "alpine-clark",
   "metadata": {},
   "outputs": [
    {
     "name": "stdout",
     "output_type": "stream",
     "text": [
      "(1, 'John', 'Stats')\n",
      "(2, 'Swarnava', 'Stats')\n",
      "(3, 'Joe', 'Maths')\n",
      "(4, 'Ankur', 'Data Science')\n",
      "(5, 'Paul', 'Data Science')\n",
      "(6, 'Vishal', 'Maths')\n",
      "(7, 'Krish', 'Data Science')\n"
     ]
    }
   ],
   "source": [
    "for records in X:\n",
    "    print(records)"
   ]
  },
  {
   "cell_type": "markdown",
   "id": "attempted-fitting",
   "metadata": {},
   "source": [
    "### Selecting Particular Rows"
   ]
  },
  {
   "cell_type": "code",
   "execution_count": 29,
   "id": "perfect-graphic",
   "metadata": {},
   "outputs": [],
   "source": [
    "cursor.execute('SELECT * FROM studentinfo WHERE name=\"Swarnava\"')"
   ]
  },
  {
   "cell_type": "code",
   "execution_count": 30,
   "id": "associate-dinner",
   "metadata": {},
   "outputs": [
    {
     "data": {
      "text/plain": [
       "[(2, 'Swarnava', 'Stats')]"
      ]
     },
     "execution_count": 30,
     "metadata": {},
     "output_type": "execute_result"
    }
   ],
   "source": [
    "### Fetch All the Data\n",
    "\n",
    "cursor.fetchall()"
   ]
  },
  {
   "cell_type": "markdown",
   "id": "dress-season",
   "metadata": {},
   "source": [
    "### Select Particular Columns"
   ]
  },
  {
   "cell_type": "code",
   "execution_count": 31,
   "id": "embedded-forum",
   "metadata": {},
   "outputs": [
    {
     "data": {
      "text/plain": [
       "[('Stats',),\n",
       " ('Stats',),\n",
       " ('Maths',),\n",
       " ('Data Science',),\n",
       " ('Data Science',),\n",
       " ('Maths',),\n",
       " ('Data Science',)]"
      ]
     },
     "execution_count": 31,
     "metadata": {},
     "output_type": "execute_result"
    }
   ],
   "source": [
    "cursor.execute('SELECT subject FROM studentinfo')\n",
    "\n",
    "#### Fetch All\n",
    "cursor.fetchall()"
   ]
  },
  {
   "cell_type": "code",
   "execution_count": 32,
   "id": "backed-dover",
   "metadata": {},
   "outputs": [
    {
     "data": {
      "text/plain": [
       "[('Stats',), ('Maths',), ('Data Science',)]"
      ]
     },
     "execution_count": 32,
     "metadata": {},
     "output_type": "execute_result"
    }
   ],
   "source": [
    "## Select Distinct Columns\n",
    "\n",
    "cursor.execute('SELECT DISTINCT subject FROM studentinfo')\n",
    "\n",
    "#### Fetch All\n",
    "cursor.fetchall()"
   ]
  },
  {
   "cell_type": "code",
   "execution_count": 34,
   "id": "round-empty",
   "metadata": {},
   "outputs": [
    {
     "data": {
      "text/plain": [
       "[('Swarnava', 'Stats'),\n",
       " ('Ankur', 'Data Science'),\n",
       " ('Paul', 'Data Science'),\n",
       " ('Krish', 'Data Science')]"
      ]
     },
     "execution_count": 34,
     "metadata": {},
     "output_type": "execute_result"
    }
   ],
   "source": [
    "cursor.execute('SELECT name,subject FROM studentinfo WHERE name=\"Swarnava\" OR subject=\"Data Science\"')\n",
    "\n",
    "#### Fetch All\n",
    "cursor.fetchall()"
   ]
  },
  {
   "cell_type": "markdown",
   "id": "shaped-filing",
   "metadata": {},
   "source": [
    "### Drop Table"
   ]
  },
  {
   "cell_type": "code",
   "execution_count": 35,
   "id": "seasonal-tampa",
   "metadata": {},
   "outputs": [],
   "source": [
    "cursor.execute('DROP TABLE studentinfo')"
   ]
  }
 ],
 "metadata": {
  "kernelspec": {
   "display_name": "Python 3",
   "language": "python",
   "name": "python3"
  },
  "language_info": {
   "codemirror_mode": {
    "name": "ipython",
    "version": 3
   },
   "file_extension": ".py",
   "mimetype": "text/x-python",
   "name": "python",
   "nbconvert_exporter": "python",
   "pygments_lexer": "ipython3",
   "version": "3.7.3"
  }
 },
 "nbformat": 4,
 "nbformat_minor": 5
}
